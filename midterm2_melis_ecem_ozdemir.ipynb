{
 "cells": [
  {
   "cell_type": "code",
   "execution_count": 8,
   "metadata": {},
   "outputs": [
    {
     "name": "stdout",
     "output_type": "stream",
     "text": [
      "1x^2 3x^1 7\n",
      "[1, 3, 7]\n",
      "1x^2 1x^1 -1\n",
      "[1, 1, -1]\n",
      "1.0x^3 6.0x^2 11.0x^1 12.0\n",
      "[  1.   6.  11.  12.]\n"
     ]
    }
   ],
   "source": [
    "import numpy as np\n",
    "%matplotlib inline\n",
    "import matplotlib.pylab as plt\n",
    "class polynomial(object):\n",
    "    def __init__(self, c, v):\n",
    "        self.coeff = c\n",
    "        self.v = v\n",
    "    def __repr__(self):\n",
    "        D = len(self.coeff)\n",
    "        for i in range(D):\n",
    "            if i<D-1:\n",
    "                print(self.coeff[i], end='')\n",
    "                print('{}^{} '.format(self.v, D-i-1), end='')\n",
    "            else:\n",
    "                print(self.coeff[i])\n",
    "        \n",
    "        return str(self.coeff)\n",
    "    \n",
    "    def __add__(self,b):\n",
    "\n",
    "        coeff = []\n",
    "        if len(self.coeff) >len(b.coeff):\n",
    "            coeff=self.coeff[:] \n",
    "            for i in range(len(b.coeff)):\n",
    "                coeff[i+(len(a.coeff)-len(b.coeff))]+=b.coeff[i]\n",
    "        else:\n",
    "            coeff=b.coeff[:]\n",
    "            for i in range (len(self.coeff)):\n",
    "                coeff[i+(len(b.coeff)-len(self.coeff))]+=self.coeff[i]\n",
    "        return polynomial(coeff, self.v)\n",
    "    \n",
    "    def __sub__(self,b):\n",
    "\n",
    "        coeff = []\n",
    "        if len(self.coeff) >len(b.coeff):\n",
    "            coeff=self.coeff[:] \n",
    "            for i in range(len(b.coeff)):\n",
    "                coeff[i+(len(self.coeff)-len(b.coeff))]-=b.coeff[i]\n",
    "        else:\n",
    "            coeff=b.coeff[:]\n",
    "            for i in range(len(b.coeff)):\n",
    "                coeff[i]=coeff[i]*-1\n",
    "            for j in range(len(self.coeff)):\n",
    "                coeff[j+(len(b.coeff)-len(self.coeff))]+=self.coeff[j]                           \n",
    "        return polynomial(coeff, self.v)\n",
    "    \n",
    "    def __mul__(self,b):\n",
    "        x=len(self.coeff)+len(b.coeff)-1\n",
    "        coeff=np.zeros(x)\n",
    "        for i in range(0,len(self.coeff)):\n",
    "            for j in range(0,len(b.coeff)):\n",
    "                coeff[i+j]+=self.coeff[i]*b.coeff[j]\n",
    "        return polynomial(coeff, self.v) \n",
    "\n",
    "\n",
    "a=polynomial([1,2,3],'x')\n",
    "b=polynomial([1,4],'x')\n",
    "add=a+b\n",
    "sub=a-b\n",
    "mul=a*b\n",
    "print(add)\n",
    "print(sub)\n",
    "print(mul)"
   ]
  }
 ],
 "metadata": {
  "kernelspec": {
   "display_name": "Python 3",
   "language": "python",
   "name": "python3"
  },
  "language_info": {
   "codemirror_mode": {
    "name": "ipython",
    "version": 3
   },
   "file_extension": ".py",
   "mimetype": "text/x-python",
   "name": "python",
   "nbconvert_exporter": "python",
   "pygments_lexer": "ipython3",
   "version": "3.6.1"
  }
 },
 "nbformat": 4,
 "nbformat_minor": 2
}
